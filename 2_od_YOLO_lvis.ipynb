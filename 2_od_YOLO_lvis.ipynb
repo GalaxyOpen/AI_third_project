{
 "cells": [
  {
   "cell_type": "code",
   "execution_count": 1,
   "metadata": {},
   "outputs": [
    {
     "name": "stdout",
     "output_type": "stream",
     "text": [
      "Current working directory:  /mnt/e/py_data/project_3_git/code\n"
     ]
    }
   ],
   "source": [
    "# 기본 작업 경로 설정\n",
    "import os\n",
    "notebook_path = os.path.abspath(\"project_3_git/code/3_lm_t5.ipynb\")\n",
    "notebook_dir = os.path.dirname(notebook_path)\n",
    "os.chdir(notebook_dir)\n",
    "\n",
    "# 현재 작업 디렉토리 출력\n",
    "print(\"Current working directory: \", os.getcwd())"
   ]
  },
  {
   "cell_type": "code",
   "execution_count": 2,
   "metadata": {},
   "outputs": [
    {
     "name": "stderr",
     "output_type": "stream",
     "text": [
      "/home/tommy/miniconda3/envs/project_3/lib/python3.11/site-packages/tqdm/auto.py:21: TqdmWarning: IProgress not found. Please update jupyter and ipywidgets. See https://ipywidgets.readthedocs.io/en/stable/user_install.html\n",
      "  from .autonotebook import tqdm as notebook_tqdm\n"
     ]
    },
    {
     "name": "stdout",
     "output_type": "stream",
     "text": [
      "WARNING ⚠️ Skipping ../yolov10_lvis/lvis-labels-segments.zip unzip as destination directory /mnt/e/py_data/project_3_git/yolov10_lvis/lvis is not empty.\n"
     ]
    }
   ],
   "source": [
    "from ultralytics.utils.downloads import download\n",
    "from pathlib import Path\n",
    "\n",
    "# Download labels\n",
    "dir = Path('../yolov10_lvis/lvis.yaml')  # dataset root dir\n",
    "url = 'https://github.com/ultralytics/assets/releases/download/v0.0.0/'\n",
    "urls = [url + 'lvis-labels-segments.zip']  # labels\n",
    "download(urls, dir=dir.parent)\n",
    "# Download data\n",
    "urls = ['http://images.cocodataset.org/zips/train2017.zip',  # 19G, 118k images\n",
    "        'http://images.cocodataset.org/zips/val2017.zip',  # 1G, 5k images\n",
    "        'http://images.cocodataset.org/zips/test2017.zip']  # 7G, 41k images (optional)"
   ]
  },
  {
   "cell_type": "code",
   "execution_count": 3,
   "metadata": {},
   "outputs": [],
   "source": [
    "dir = Path('../yolov10_lvis/lvis')"
   ]
  },
  {
   "cell_type": "code",
   "execution_count": 4,
   "metadata": {},
   "outputs": [
    {
     "name": "stdout",
     "output_type": "stream",
     "text": [
      "WARNING ⚠️ Skipping ../yolov10_lvis/lvis/images/val2017.zip unzip as destination directory /mnt/e/py_data/project_3_git/yolov10_lvis/lvis/images/val2017 is not empty.\n",
      "WARNING ⚠️ Skipping ../yolov10_lvis/lvis/images/test2017.zip unzip as destination directory /mnt/e/py_data/project_3_git/yolov10_lvis/lvis/images/test2017 is not empty.\n",
      "WARNING ⚠️ Skipping ../yolov10_lvis/lvis/images/train2017.zip unzip as destination directory /mnt/e/py_data/project_3_git/yolov10_lvis/lvis/images/train2017 is not empty.\n"
     ]
    }
   ],
   "source": [
    "download(urls, dir=dir / 'images', threads=3)"
   ]
  },
  {
   "cell_type": "code",
   "execution_count": null,
   "metadata": {},
   "outputs": [],
   "source": [
    "from ultralytics.models import YOLOv10\n",
    "\n",
    "model_for_trian = YOLOv10()\n",
    "model_for_trian.train(data=\"../yolov10_lvis/lvis_mini.yaml\", epochs=10, imgsz=512)"
   ]
  }
 ],
 "metadata": {
  "kernelspec": {
   "display_name": "Python 3 (ipykernel)",
   "language": "python",
   "name": "python3"
  },
  "language_info": {
   "codemirror_mode": {
    "name": "ipython",
    "version": 3
   },
   "file_extension": ".py",
   "mimetype": "text/x-python",
   "name": "python",
   "nbconvert_exporter": "python",
   "pygments_lexer": "ipython3",
   "version": "3.11.0"
  }
 },
 "nbformat": 4,
 "nbformat_minor": 2
}
